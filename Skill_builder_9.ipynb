{
 "cells": [
  {
   "cell_type": "code",
   "execution_count": 11,
   "metadata": {
    "collapsed": false
   },
   "outputs": [
    {
     "name": "stdout",
     "output_type": "stream",
     "text": [
      "Estimation 7047/50\n",
      "           140.940000000000\n"
     ]
    }
   ],
   "source": [
    "#First equation\n",
    "n = 10\n",
    "\n",
    "f(i) = ((3+ i/n)^3)*(1/n)\n",
    "\n",
    "u = sum([f(i) for i in (1..2*n)])  #Estimation\n",
    "#print(\"t\", t)\n",
    "#Printing the resulst\n",
    "print(\"Estimation\", abs(u))\n",
    "print(\"          \", abs(u).n())\n"
   ]
  },
  {
   "cell_type": "code",
   "execution_count": 5,
   "metadata": {
    "collapsed": false
   },
   "outputs": [
    {
     "name": "stdout",
     "output_type": "stream",
     "text": [
      "Estimation 170613/1250\n",
      "           136.490400000000\n"
     ]
    }
   ],
   "source": [
    "\n",
    "n = 100\n",
    "\n",
    "f(i) = ((3+ i/n)^3)*(1/n)\n",
    "\n",
    "u = sum([f(i) for i in (1..2*n)])  #Estimation\n",
    "#print(\"t\", t)\n",
    "#Printing the resulst\n",
    "print(\"Estimation\", abs(u))\n",
    "print(\"          \", abs(u).n())\n",
    "\n"
   ]
  },
  {
   "cell_type": "code",
   "execution_count": 6,
   "metadata": {
    "collapsed": false
   },
   "outputs": [
    {
     "name": "stdout",
     "output_type": "stream",
     "text": [
      "Estimation 34012251/250000\n",
      "           136.049004000000\n"
     ]
    }
   ],
   "source": [
    "n = 1000\n",
    "\n",
    "f(i) = ((3+ i/n)^3)*(1/n)\n",
    "\n",
    "u = sum([f(i) for i in (1..2*n)])  #Estimation\n",
    "#print(\"t\", t)\n",
    "#Printing the resulst\n",
    "print(\"Estimation\", abs(u))\n",
    "print(\"          \", abs(u).n())\n"
   ]
  },
  {
   "cell_type": "code",
   "execution_count": 17,
   "metadata": {
    "collapsed": false
   },
   "outputs": [
    {
     "name": "stdout",
     "output_type": "stream",
     "text": [
      "Estimation 0.919403170014613\n"
     ]
    }
   ],
   "source": [
    "#Second equation\n",
    "n = 10\n",
    "f(i) = cos((i*pi)/(2*n))*(pi/(2*n))\n",
    "\n",
    "u = sum([f(i) for i in (1..n)])  #Estimation\n",
    "#print(\"t\", t)\n",
    "#Printing the resulst\n",
    "print(\"Estimation\", abs(u).n())\n",
    "#print(\"          \", abs(u).n())\n"
   ]
  },
  {
   "cell_type": "code",
   "execution_count": 18,
   "metadata": {
    "collapsed": false
   },
   "outputs": [
    {
     "name": "stdout",
     "output_type": "stream",
     "text": [
      "Estimation 0.992125456605633\n"
     ]
    }
   ],
   "source": [
    "n = 100\n",
    "f(i) = cos(i*pi/(2*n))*(pi/(2*n))\n",
    "\n",
    "u = sum([f(i) for i in (1..n)])  #Estimation\n",
    "#print(\"t\", t)\n",
    "#Printing the resulst\n",
    "print(\"Estimation\", abs(u).n())\n",
    "#print(\"          \", abs(u).n())\n"
   ]
  },
  {
   "cell_type": "code",
   "execution_count": 19,
   "metadata": {
    "collapsed": false
   },
   "outputs": [
    {
     "name": "stdout",
     "output_type": "stream",
     "text": [
      "Estimation 0.999214396219835\n"
     ]
    }
   ],
   "source": [
    "n = 1000\n",
    "f(i) = cos(i*pi/(2*n))*(pi/(2*n))\n",
    "\n",
    "u = sum([f(i) for i in (1..n)])  #Estimation\n",
    "#print(\"t\", t)\n",
    "#Printing the resulst\n",
    "#print(\"Estimation\", abs(u))\n",
    "print(\"Estimation\", abs(u).n())"
   ]
  },
  {
   "cell_type": "code",
   "execution_count": 6,
   "metadata": {
    "collapsed": false
   },
   "outputs": [
    {
     "data": {
      "text/plain": [
       "i^3/n^4 + 9*i^2/n^3 + 27*i/n^2 + 27/n"
      ]
     },
     "execution_count": 6,
     "metadata": {
     },
     "output_type": "execute_result"
    }
   ],
   "source": [
    "#Expanding for the evaluation of the limit of the first equation\n",
    "#f(i) = ((3+ i/n)^3)*(1/n)\n",
    "var(\"i,n\")\n",
    "expand(((3+ i/n)^3)*(1/n))"
   ]
  },
  {
   "cell_type": "code",
   "execution_count": 2,
   "metadata": {
    "collapsed": false
   },
   "outputs": [
    {
     "data": {
      "text/plain": [
       "n |--> 136"
      ]
     },
     "execution_count": 2,
     "metadata": {
     },
     "output_type": "execute_result"
    }
   ],
   "source": [
    "#After expanding the sum\n",
    "\n",
    "var(\"n\")\n",
    "f(n) = ((82*n^2 + 49*n + 4)/n^2) + 54\n",
    "#u = sum([f(i) for i in (1..2*n)])  #Estimation\n",
    "#print(u)\n",
    "limit(f, n = infinity)\n"
   ]
  },
  {
   "cell_type": "code",
   "execution_count": 8,
   "metadata": {
    "collapsed": false
   },
   "outputs": [
    {
     "data": {
      "text/plain": [
       "136"
      ]
     },
     "execution_count": 8,
     "metadata": {
     },
     "output_type": "execute_result"
    }
   ],
   "source": [
    "var('i n')\n",
    "\n",
    "#Sage evaluation\n",
    "limit(sum(((3+ i/n)^3)*(1/n), i, 1, 2*n), n=infinity)\n"
   ]
  },
  {
   "cell_type": "code",
   "execution_count": 2,
   "metadata": {
    "collapsed": false
   },
   "outputs": [
    {
     "data": {
      "text/html": [
       "<html>\\[\\newcommand{\\Bold}[1]{\\mathbf{#1}}\\frac{\\pi \\cos\\left(\\frac{\\pi i}{2 \\, n}\\right)}{2 \\, n}\\]</html>"
      ],
      "text/latex": [
       "$$\\newcommand{\\Bold}[1]{\\mathbf{#1}}\\frac{\\pi \\cos\\left(\\frac{\\pi i}{2 \\, n}\\right)}{2 \\, n}$$"
      ],
      "text/plain": [
       "1/2*pi*cos(1/2*pi*i/n)/n"
      ]
     },
     "execution_count": 2,
     "metadata": {
     },
     "output_type": "execute_result"
    }
   ],
   "source": [
    "#Expansion of the 2 function (trying to simplify)\n",
    "var(\"i,n\")\n",
    "show(expand(cos(i*pi/(2*n))*(pi/(2*n))))"
   ]
  },
  {
   "cell_type": "code",
   "execution_count": 3,
   "metadata": {
    "collapsed": false
   },
   "outputs": [
    {
     "data": {
      "text/plain": [
       "n |--> 0"
      ]
     },
     "execution_count": 3,
     "metadata": {
     },
     "output_type": "execute_result"
    }
   ],
   "source": [
    "#Fail attempt to do it manually\n",
    "\n",
    "var(\"n\")\n",
    "f(n) = (pi/2*n)*(e^(-pi/2*n)*n)\n",
    "#u = sum([f(i) for i in (1..2*n)])  #Estimation\n",
    "#print(u)\n",
    "limit(f, n = infinity)"
   ]
  },
  {
   "cell_type": "code",
   "execution_count": 1,
   "metadata": {
    "collapsed": false
   },
   "outputs": [
    {
     "data": {
      "text/plain": [
       "1"
      ]
     },
     "execution_count": 1,
     "metadata": {
     },
     "output_type": "execute_result"
    }
   ],
   "source": [
    "#Evaluation of the sin second equation\n",
    "sin(pi/2)"
   ]
  },
  {
   "cell_type": "code",
   "execution_count": 13,
   "metadata": {
    "collapsed": false
   },
   "outputs": [
    {
     "data": {
      "text/html": [
       "<html>\\[\\newcommand{\\Bold}[1]{\\mathbf{#1}}\\frac{\\pi - \\pi \\sin\\left(n \\arctan\\left(\\sin\\left(\\frac{\\pi}{2 \\, n}\\right), \\cos\\left(\\frac{\\pi}{2 \\, n}\\right)\\right) + \\arctan\\left(\\sin\\left(\\frac{\\pi}{2 \\, n}\\right), \\cos\\left(\\frac{\\pi}{2 \\, n}\\right)\\right)\\right) \\sin\\left(\\frac{\\pi}{2 \\, n}\\right) + {\\left(\\pi - \\pi \\cos\\left(\\frac{\\pi}{2 \\, n}\\right)\\right)} \\cos\\left(n \\arctan\\left(\\sin\\left(\\frac{\\pi}{2 \\, n}\\right), \\cos\\left(\\frac{\\pi}{2 \\, n}\\right)\\right) + \\arctan\\left(\\sin\\left(\\frac{\\pi}{2 \\, n}\\right), \\cos\\left(\\frac{\\pi}{2 \\, n}\\right)\\right)\\right) - \\pi \\cos\\left(\\frac{\\pi}{2 \\, n}\\right)}{4 \\, n {\\left(\\cos\\left(\\frac{\\pi}{2 \\, n}\\right) - 1\\right)}}\\]</html>"
      ],
      "text/latex": [
       "$$\\newcommand{\\Bold}[1]{\\mathbf{#1}}\\frac{\\pi - \\pi \\sin\\left(n \\arctan\\left(\\sin\\left(\\frac{\\pi}{2 \\, n}\\right), \\cos\\left(\\frac{\\pi}{2 \\, n}\\right)\\right) + \\arctan\\left(\\sin\\left(\\frac{\\pi}{2 \\, n}\\right), \\cos\\left(\\frac{\\pi}{2 \\, n}\\right)\\right)\\right) \\sin\\left(\\frac{\\pi}{2 \\, n}\\right) + {\\left(\\pi - \\pi \\cos\\left(\\frac{\\pi}{2 \\, n}\\right)\\right)} \\cos\\left(n \\arctan\\left(\\sin\\left(\\frac{\\pi}{2 \\, n}\\right), \\cos\\left(\\frac{\\pi}{2 \\, n}\\right)\\right) + \\arctan\\left(\\sin\\left(\\frac{\\pi}{2 \\, n}\\right), \\cos\\left(\\frac{\\pi}{2 \\, n}\\right)\\right)\\right) - \\pi \\cos\\left(\\frac{\\pi}{2 \\, n}\\right)}{4 \\, n {\\left(\\cos\\left(\\frac{\\pi}{2 \\, n}\\right) - 1\\right)}}$$"
      ],
      "text/plain": [
       "1/4*(pi - pi*sin(n*arctan2(sin(1/2*pi/n), cos(1/2*pi/n)) + arctan2(sin(1/2*pi/n), cos(1/2*pi/n)))*sin(1/2*pi/n) + (pi - pi*cos(1/2*pi/n))*cos(n*arctan2(sin(1/2*pi/n), cos(1/2*pi/n)) + arctan2(sin(1/2*pi/n), cos(1/2*pi/n))) - pi*cos(1/2*pi/n))/(n*(cos(1/2*pi/n) - 1))"
      ]
     },
     "execution_count": 13,
     "metadata": {
     },
     "output_type": "execute_result"
    }
   ],
   "source": [
    "\n",
    "#Sage evaluation\n",
    "show(sum(cos(i*pi/(2*n))*(pi/(2*n)), i, 1, n))\n"
   ]
  },
  {
   "cell_type": "code",
   "execution_count": 14,
   "metadata": {
    "collapsed": false
   },
   "outputs": [
    {
     "name": "stdout",
     "output_type": "stream",
     "text": [
      "1\n"
     ]
    }
   ],
   "source": [
    "var('i n')\n",
    "\n",
    "print(limit(sum(cos(i*pi/(2*n))*(pi/(2*n)), i, 1, n), n=infinity))\n"
   ]
  },
  {
   "cell_type": "code",
   "execution_count": 0,
   "metadata": {
    "collapsed": false
   },
   "outputs": [
   ],
   "source": [
   ]
  }
 ],
 "metadata": {
  "kernelspec": {
   "display_name": "SageMath 9.4",
   "language": "sagemath",
   "metadata": {
    "cocalc": {
     "description": "Open-source mathematical software system",
     "priority": 10,
     "url": "https://www.sagemath.org/"
    }
   },
   "name": "sage-9.4",
   "resource_dir": "/ext/jupyter/kernels/sage-9.4"
  },
  "language_info": {
   "codemirror_mode": {
    "name": "ipython",
    "version": 3
   },
   "file_extension": ".py",
   "mimetype": "text/x-python",
   "name": "python",
   "nbconvert_exporter": "python",
   "pygments_lexer": "ipython3",
   "version": "3.9.5"
  }
 },
 "nbformat": 4,
 "nbformat_minor": 4
}